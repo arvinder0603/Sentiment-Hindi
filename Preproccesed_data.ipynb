{
  "cells": [
    {
      "cell_type": "code",
      "execution_count": 1,
      "metadata": {
        "id": "yvoBe5VnFbGH"
      },
      "outputs": [],
      "source": [
        "import pandas as pd\n",
        "import numpy as np\n",
        "import re\n",
        "import matplotlib.pyplot as plt"
      ]
    },
    {
      "cell_type": "code",
      "execution_count": 2,
      "metadata": {
        "id": "j79KuWz5FbGI"
      },
      "outputs": [],
      "source": [
        "dataset=pd.read_csv('/content/train.csv')"
      ]
    },
    {
      "cell_type": "code",
      "execution_count": 3,
      "metadata": {
        "id": "5GN_lm1BFbGJ"
      },
      "outputs": [],
      "source": [
        "emoji_pattern = re.compile(\"[\"\n",
        "        u\"U0001F600-U0001F64F\"  # emoticons\n",
        "        u\"U0001F300-U0001F5FF\"  # symbols & pictographs\n",
        "        u\"U0001F680-U0001F6FF\"  # transport & map symbols\n",
        "        u\"U0001F1E0-U0001F1FF\"  # flags (iOS)\n",
        "        u\"U00002500-U00002BEF\"  # chinese char\n",
        "        u\"U00002702-U000027B0\"\n",
        "        u\"U00002702-U000027B0\"\n",
        "        u\"U000024C2-U0001F251\"\n",
        "        u\"U0001f926-U0001f937\"\n",
        "        u\"U00010000-U0010ffff\"\n",
        "        u\"u2640-u2642\"\n",
        "        u\"u2600-u2B55\"\n",
        "        u\"u200d\"\n",
        "        u\"u23cf\"\n",
        "        u\"u23e9\"\n",
        "        u\"u231a\"\n",
        "        u\"ufe0f\"  # dingbats\n",
        "        u\"u3030\"\n",
        "                           \"]+\", flags=re.UNICODE)"
      ]
    },
    {
      "cell_type": "code",
      "execution_count": 4,
      "metadata": {
        "colab": {
          "base_uri": "https://localhost:8080/"
        },
        "id": "NfGe3yhaFbGJ",
        "outputId": "7ff3091f-71c9-4be6-f4f1-04ba4234489b"
      },
      "outputs": [
        {
          "output_type": "stream",
          "name": "stderr",
          "text": [
            "<ipython-input-4-65091b9d9ef5>:2: SettingWithCopyWarning: \n",
            "A value is trying to be set on a copy of a slice from a DataFrame\n",
            "\n",
            "See the caveats in the documentation: https://pandas.pydata.org/pandas-docs/stable/user_guide/indexing.html#returning-a-view-versus-a-copy\n",
            "  dataset['text'][i]=emoji_pattern.sub(r'',dataset['text'][i])\n"
          ]
        }
      ],
      "source": [
        "for i in range(len(dataset)):\n",
        "    dataset['text'][i]=emoji_pattern.sub(r'',dataset['text'][i])\n",
        ""
      ]
    },
    {
      "cell_type": "code",
      "execution_count": 5,
      "metadata": {
        "colab": {
          "base_uri": "https://localhost:8080/"
        },
        "id": "4z5VjCB2FbGJ",
        "outputId": "3788143c-23e7-4061-be96-97fd2d98cc2f"
      },
      "outputs": [
        {
          "output_type": "execute_result",
          "data": {
            "text/plain": [
              "0      चंद्रमोहन शर्मा को-प्रड्यूसर और लीड ऐक्टर अक्ष...\n",
              "1      अगर आप इस फिल्म को देखने जा रहे हैं तो सबसे पह...\n",
              "2      बॉलीवुड वाले चोरी-छिपे हॉलीवुड फिल्मों से कहान...\n",
              "3      बैनर \\nसंजय दत्त प्रोडक्शन्स प्रा.लि., रुपाली ...\n",
              "4       में घटित चर्चित नानावटी कांड में एक क्राइम थ्...\n",
              "                             ...                        \n",
              "713     अक्टूबर  को काला दिवस कहा जाता है। इस दिन तत्...\n",
              "714    \\n\\nगुंडे को देख सत्तर और अस्सी के दशक का सिने...\n",
              "715    .. ग्लैमर इंडस्ट्री में आर. बाल्की को बिग बी क...\n",
              "716    निर्माता \\nसुनीता गोवारीकर, अजय बिजली, संजीव क...\n",
              "717    फोर्स  उन अंडरकवर एजेंट्स को समर्पित है जो समय...\n",
              "Name: text, Length: 718, dtype: object"
            ]
          },
          "metadata": {},
          "execution_count": 5
        }
      ],
      "source": [
        "dataset['text']"
      ]
    },
    {
      "cell_type": "code",
      "execution_count": 6,
      "metadata": {
        "id": "Du11kLGdFbGK"
      },
      "outputs": [],
      "source": [
        "text=dataset['text']"
      ]
    },
    {
      "cell_type": "code",
      "execution_count": 7,
      "metadata": {
        "id": "mP8OhMZ4FbGK"
      },
      "outputs": [],
      "source": [
        "from spacy.lang.hi import STOP_WORDS as STOP_WORDS_HI"
      ]
    },
    {
      "cell_type": "code",
      "execution_count": 8,
      "metadata": {
        "id": "khenEq_1FbGK"
      },
      "outputs": [],
      "source": [
        "corpus=[]\n",
        "for i in range(len(dataset)):\n",
        "    review=\"\".join(dataset['text'][i])\n",
        "    review=review.split()\n",
        "\n",
        "    review=[word for word in review if word not in set(STOP_WORDS_HI)]\n",
        "    corpus.append(review)\n",
        ""
      ]
    },
    {
      "cell_type": "code",
      "execution_count": 9,
      "metadata": {
        "colab": {
          "base_uri": "https://localhost:8080/"
        },
        "id": "07B2CpjLFbGK",
        "outputId": "736f6fbd-2fc7-49ed-8084-37befc5db18c"
      },
      "outputs": [
        {
          "output_type": "stream",
          "name": "stdout",
          "text": [
            "['चंद्रमोहन', 'शर्मा', 'को-प्रड्यूसर', 'लीड', 'ऐक्टर', 'अक्षय', 'कुमार', 'मानें', 'नई', 'फिल्म', 'एयरलिफ्ट', 'कहानी', 'किरदार', 'बिल्कुल', 'सच्चे', 'हैं।', 'खाड़ी', 'युद्ध', 'कवर', 'सीनियर', 'रिपोर्टर', 'वक्त', 'एयर', 'इंडिया', 'उच्च', 'पद', 'अफसर', 'कहानी', 'सच', 'परे', 'मानते', 'हैं।', 'हालांकि,', 'स्क्रीन', 'देखेंगे', 'सब', 'सच', 'बेहद', 'करीब', 'है।', 'बॉलिवुड', 'खबरें', 'फेसबुक', 'पाना', 'लाइक', 'v', 'फिल्म', 'कहानी', 'चार', 'अहम', 'किरदारों', 'इर्द-गिर्द', 'घूमती', 'है।', 'चारों', 'मिलाकर', 'लीड', 'किरदार', 'स्क्रीन', 'उतारा', 'है,', 'अक्षय', 'कुमार', 'निभाया', 'है।', 'फिल्म', 'खाड़ी', 'युद्ध', 'आधारित', 'है।', 'जंग', 'दौरान', 'कुवैत', 'फंसे', 'करीब', 'लाख', 'सत्तर', 'हजार', 'भारतीय', 'नागरिकों', 'देश', 'वापस', 'लाए', 'जाने', 'घटना', 'डायरेक्टर', 'अंदाज', 'पेश', 'है।', 'किरदारों', 'पर्दे', 'उतारने', 'फिल्मी', 'आजादी', 'जरूरत', 'है,', 'आजादी', 'फिल्म', 'डायरेक्टर', 'राजा', 'मेनन', 'ली', 'है।', 'देखिए,', 'फिल्म', 'ट्रेलर', 'घटना', 'ज्यादा', 'असरदार', 'ढंग', 'पेश', 'मकसद', 'राजा', 'फिल्म', 'सीन्स', 'दुबई', 'करीब', 'चार', 'घंटे', 'दूरी', 'स्थित', 'रसेल', 'खेमा', 'जाकर', 'शूट', 'किया।', 'गुजरात', 'भुज', 'राजस्थान', 'आउटडोर', 'लोकेशन', 'फिल्म', 'अधिकांश', 'शूटिंग', 'गई', 'है।', 'कहानी', 'रंजीत', 'कात्याल', '(अक्षय', 'कुमार),', 'पत्नी', 'अमृता', 'कात्याल', '(निमरत', 'कौर)', 'प्यारी-सी', 'बेटी', 'कुवैत', 'रहता', 'है।', 'शहर', 'नामी', 'बिज़नसमैन', 'है।', 'खाड़ी', 'युद्ध', 'छिड़ने', 'बुरी', 'बर्बाद', 'कुवैत', 'शहर', 'रह', 'भारतीय', 'नागरिकों', 'रंजीत', 'परिवार', 'फंस', 'जाता', 'है।', 'सरकारी', 'अधिकारी', 'हालात', 'निपटने', 'विकल्पों', 'विचार', 'कुवैत', 'रईस', 'बिज़नसमैन', 'रंजीत', 'प्रभाव', 'रसूख', 'फैमिली', 'फंसे', 'भारतीय', 'नागरिकों', 'निकालने', 'मिशन', 'स्टार्ट', 'है।', 'कुवैत', 'हालात', 'खराब', 'थे।', 'भारतीय', 'सेना', 'डायरेक्ट', 'कतरा', 'रही', 'थी।', 'वक्त', 'रंजीत', 'दम', 'दुनिया', 'बड़े', 'ऑपरेशन', 'शुरू', 'फैसला', 'किया।', 'ऐक्टिंग', 'फिल्म', 'अक्षय', 'कुमार', 'बार', 'किरदार', 'पूरी', 'जीवंत', 'दिखाया', 'है।', 'एयरलिफ्ट', 'अक्षय', 'कुमार', 'अब', 'फिल्मी', 'करियर', 'बेहतरीन', 'ऐक्टिंग', 'है।', 'अक्षय', 'स्क्रीन', 'देश', 'राष्ट्रीय', 'ध्वज', 'नजर', 'आते', 'हैं,', 'चेहरे', 'एक्सप्रेशन', 'देखकर', 'हॉल', 'बैठे', 'दर्शक', 'सीन', 'बंध', 'जाते', 'हैं।', 'अक्षय', 'पत्नी', 'किरदार', 'निमरत', 'कौर', 'अच्छा', 'काम', 'है।', 'बाकी', 'कलाकारों', 'पूरब', 'कोहली,', 'इनामुल', 'हक', 'कुमुद', 'मिश्रा', 'बेहतरीन', 'ऐक्टिंग', 'है।', 'डायरेक्शन', 'राजा', 'मेनन', 'स्क्रिप्ट', 'न्याय', 'है।', 'डायरेक्टर', 'तारीफ', 'करनी', 'होगी', 'उन्होंने', 'बॉक्स', 'ऑफिस', 'मोह', 'त्याग', 'कहानी', 'किरदारों', 'पूरी', 'माहौल', 'समेटा', 'है।', 'फिल्म', 'लगभर', 'हर', 'ऐक्टर', 'उन्होंने', 'बेहतरीन', 'ऐक्टिंग', 'कराई', 'है।', 'वॉर', 'सीन्स', 'उन्होंने', 'पर्दे', 'पूरी', 'जीवंत', 'दिखाया', 'है।', 'काम', 'तारीफ', 'काबिल', 'है।', 'संगीत', 'ऐसी', 'कहानी', 'गानों', 'जरूरत', 'होती,', 'राजा', 'गानों', 'फिल्मांकन', 'ढंग', 'पेश', 'है,', 'कहानी', 'माहौल', 'अनुकूल', 'है।', 'क्यों', 'देखें', 'अक्षय', 'कुमार', 'फिल्मी', 'करियर', 'बेहतरीन', 'किरदार', 'देखने', 'फिल्म', 'देखें।', 'अच्छी', 'मेसेज', 'देने', 'वाली', 'फिल्मों', 'शौकीन', 'हैं,', 'फिल्म', 'फैमिली', 'देख', 'हैं।']\n",
            "चंद्रमोहन शर्मा को-प्रड्यूसर और लीड ऐक्टर अक्षय कुमार की मानें तो उनकी नई फिल्म एयरलिफ्ट की कहानी और किरदार बिल्कुल सच्चे हैं। पहले खाड़ी युद्ध को कवर करने वाले एक सीनियर रिपोर्टर और उस वक्त एयर इंडिया में उच्च पद पर रहे एक अफसर इस कहानी को सच से परे मानते हैं। हालांकि, स्क्रीन पर आप जो कुछ भी देखेंगे वह सब सच के बेहद करीब है। बॉलिवुड की खबरें अपने फेसबुक पर पाना हो तो लाइक करें  v फिल्म की कहानी चार अहम किरदारों के इर्द-गिर्द घूमती है। इन चारों को मिलाकर एक लीड किरदार स्क्रीन पर उतारा गया है, जिसे अक्षय कुमार ने निभाया है। यह फिल्म पहले खाड़ी युद्ध पर आधारित है। इस जंग के दौरान कुवैत में फंसे करीब एक लाख सत्तर हजार भारतीय नागरिकों को देश वापस लाए जाने की घटना को डायरेक्टर ने अपने अंदाज से पेश किया है। किरदारों को पर्दे पर उतारने में कुछ फिल्मी आजादी की जरूरत होती है, यही आजादी फिल्म के डायरेक्टर राजा मेनन ने भी ली है। देखिए, फिल्म का ट्रेलर  इस घटना को और ज्यादा असरदार ढंग से पेश करने के मकसद से राजा ने फिल्म के कुछ सीन्स को दुबई से करीब चार घंटे की दूरी पर स्थित रसेल खेमा में जाकर शूट किया। गुजरात के भुज और राजस्थान की आउटडोर लोकेशन पर इस फिल्म की अधिकांश शूटिंग की गई है।  कहानी  रंजीत कात्याल (अक्षय कुमार), पत्नी अमृता कात्याल (निमरत कौर) और प्यारी-सी बेटी के साथ कुवैत में रहता है। वह शहर का नामी बिज़नसमैन है। खाड़ी युद्ध छिड़ने के बाद बुरी तरह से बर्बाद हुए कुवैत के एक शहर में रह रहे दूसरे भारतीय नागरिकों के साथ रंजीत का परिवार भी फंस जाता है। सरकारी अधिकारी हालात से निपटने के विकल्पों पर विचार कर रहे हैं और ऐसे में कुवैत का रईस बिज़नसमैन रंजीत अपने प्रभाव और रसूख से अपनी फैमिली और फंसे दूसरे भारतीय नागरिकों को वहां से निकालने का मिशन स्टार्ट करता है। कुवैत में हालात खराब हो रहे थे। भारतीय सेना डायरेक्ट कुछ करने में कतरा रही थी। उस वक्त रंजीत ने अपने दम पर दुनिया के सबसे बड़े ऑपरेशन को शुरू करने का फैसला किया। ऐक्टिंग  इस फिल्म में अक्षय कुमार ने एक बार फिर अपने किरदार को पूरी तरह से जीवंत कर दिखाया है। एयरलिफ्ट में अक्षय कुमार ने अब तक के अपने फिल्मी करियर की बेहतरीन ऐक्टिंग की है। अक्षय जब स्क्रीन पर देश के राष्ट्रीय ध्वज के साथ नजर आते हैं, तो उनके चेहरे का एक्सप्रेशन देखकर हॉल में बैठे दर्शक इस सीन से बंध जाते हैं।  अक्षय की पत्नी के किरदार में निमरत कौर ने अच्छा काम किया है। बाकी के कलाकारों में पूरब कोहली, इनामुल हक और कुमुद मिश्रा ने बेहतरीन ऐक्टिंग की है। डायरेक्शन  राजा मेनन ने स्क्रिप्ट के साथ पूरा न्याय किया है। डायरेक्टर की तारीफ करनी होगी कि उन्होंने बॉक्स ऑफिस का मोह त्याग कर कहानी और किरदारों को पूरी तरह से माहौल में समेटा है। वहीं फिल्म के लगभर हर ऐक्टर से उन्होंने बेहतरीन ऐक्टिंग कराई है। वॉर सीन्स को भी उन्होंने पर्दे पर पूरी तरह से जीवंत कर दिखाया है। उनका काम तारीफ के काबिल है। संगीत  ऐसी कहानी में गानों की जरूरत नहीं होती, लेकिन यहां राजा ने गानों का फिल्मांकन ऐसे ढंग से पेश किया है, जो कहानी और माहौल के अनुकूल है। क्यों देखें  अक्षय कुमार को उनके फिल्मी करियर के सबसे बेहतरीन किरदार में देखने के लिए इस फिल्म को देखें। अगर आप अच्छी और मेसेज देने वाली फिल्मों के शौकीन हैं, तो इस फिल्म को फैमिली के साथ देख सकते हैं। \n"
          ]
        }
      ],
      "source": [
        "print(corpus[0])\n",
        "print(dataset['text'][0])\n",
        "data=corpus"
      ]
    },
    {
      "cell_type": "code",
      "execution_count": 10,
      "metadata": {
        "id": "HTnrnWzZFbGK"
      },
      "outputs": [],
      "source": [
        "from sklearn.feature_extraction.text import TfidfVectorizer\n",
        "tfidf=TfidfVectorizer()\n",
        "\n",
        "corpus = [' '.join(doc) for doc in corpus]\n",
        "\n",
        "\n",
        "\n",
        "# Create the TfidfVectorizer and fit_transform\n",
        "tfidf = TfidfVectorizer()\n",
        "corpus = tfidf.fit_transform(corpus)"
      ]
    },
    {
      "cell_type": "code",
      "execution_count": 11,
      "metadata": {
        "id": "sqCji7dSFbGK"
      },
      "outputs": [],
      "source": [
        "x=corpus\n",
        "y=dataset['experience']"
      ]
    },
    {
      "cell_type": "code",
      "execution_count": 12,
      "metadata": {
        "id": "EId0ORrKFbGL"
      },
      "outputs": [],
      "source": [
        "from sklearn.model_selection import train_test_split\n",
        "X_train, X_test,y_train, y_test = train_test_split(x,y ,\n",
        "                                   random_state=42,\n",
        "                                   test_size=0.25,\n",
        "                                   shuffle=True)"
      ]
    },
    {
      "cell_type": "code",
      "execution_count": 13,
      "metadata": {
        "id": "dTktGIKcFbGL"
      },
      "outputs": [],
      "source": [
        "from sklearn.linear_model import LogisticRegression"
      ]
    },
    {
      "cell_type": "code",
      "execution_count": 14,
      "metadata": {
        "id": "rgqB6GQIFbGL"
      },
      "outputs": [],
      "source": [
        "le=LogisticRegression()"
      ]
    },
    {
      "cell_type": "code",
      "execution_count": 15,
      "metadata": {
        "colab": {
          "base_uri": "https://localhost:8080/",
          "height": 74
        },
        "id": "F1rh5dFeFbGL",
        "outputId": "e6eb8f56-e991-4d64-fa3d-19ba1e36eda1"
      },
      "outputs": [
        {
          "output_type": "execute_result",
          "data": {
            "text/plain": [
              "LogisticRegression()"
            ],
            "text/html": [
              "<style>#sk-container-id-1 {color: black;background-color: white;}#sk-container-id-1 pre{padding: 0;}#sk-container-id-1 div.sk-toggleable {background-color: white;}#sk-container-id-1 label.sk-toggleable__label {cursor: pointer;display: block;width: 100%;margin-bottom: 0;padding: 0.3em;box-sizing: border-box;text-align: center;}#sk-container-id-1 label.sk-toggleable__label-arrow:before {content: \"▸\";float: left;margin-right: 0.25em;color: #696969;}#sk-container-id-1 label.sk-toggleable__label-arrow:hover:before {color: black;}#sk-container-id-1 div.sk-estimator:hover label.sk-toggleable__label-arrow:before {color: black;}#sk-container-id-1 div.sk-toggleable__content {max-height: 0;max-width: 0;overflow: hidden;text-align: left;background-color: #f0f8ff;}#sk-container-id-1 div.sk-toggleable__content pre {margin: 0.2em;color: black;border-radius: 0.25em;background-color: #f0f8ff;}#sk-container-id-1 input.sk-toggleable__control:checked~div.sk-toggleable__content {max-height: 200px;max-width: 100%;overflow: auto;}#sk-container-id-1 input.sk-toggleable__control:checked~label.sk-toggleable__label-arrow:before {content: \"▾\";}#sk-container-id-1 div.sk-estimator input.sk-toggleable__control:checked~label.sk-toggleable__label {background-color: #d4ebff;}#sk-container-id-1 div.sk-label input.sk-toggleable__control:checked~label.sk-toggleable__label {background-color: #d4ebff;}#sk-container-id-1 input.sk-hidden--visually {border: 0;clip: rect(1px 1px 1px 1px);clip: rect(1px, 1px, 1px, 1px);height: 1px;margin: -1px;overflow: hidden;padding: 0;position: absolute;width: 1px;}#sk-container-id-1 div.sk-estimator {font-family: monospace;background-color: #f0f8ff;border: 1px dotted black;border-radius: 0.25em;box-sizing: border-box;margin-bottom: 0.5em;}#sk-container-id-1 div.sk-estimator:hover {background-color: #d4ebff;}#sk-container-id-1 div.sk-parallel-item::after {content: \"\";width: 100%;border-bottom: 1px solid gray;flex-grow: 1;}#sk-container-id-1 div.sk-label:hover label.sk-toggleable__label {background-color: #d4ebff;}#sk-container-id-1 div.sk-serial::before {content: \"\";position: absolute;border-left: 1px solid gray;box-sizing: border-box;top: 0;bottom: 0;left: 50%;z-index: 0;}#sk-container-id-1 div.sk-serial {display: flex;flex-direction: column;align-items: center;background-color: white;padding-right: 0.2em;padding-left: 0.2em;position: relative;}#sk-container-id-1 div.sk-item {position: relative;z-index: 1;}#sk-container-id-1 div.sk-parallel {display: flex;align-items: stretch;justify-content: center;background-color: white;position: relative;}#sk-container-id-1 div.sk-item::before, #sk-container-id-1 div.sk-parallel-item::before {content: \"\";position: absolute;border-left: 1px solid gray;box-sizing: border-box;top: 0;bottom: 0;left: 50%;z-index: -1;}#sk-container-id-1 div.sk-parallel-item {display: flex;flex-direction: column;z-index: 1;position: relative;background-color: white;}#sk-container-id-1 div.sk-parallel-item:first-child::after {align-self: flex-end;width: 50%;}#sk-container-id-1 div.sk-parallel-item:last-child::after {align-self: flex-start;width: 50%;}#sk-container-id-1 div.sk-parallel-item:only-child::after {width: 0;}#sk-container-id-1 div.sk-dashed-wrapped {border: 1px dashed gray;margin: 0 0.4em 0.5em 0.4em;box-sizing: border-box;padding-bottom: 0.4em;background-color: white;}#sk-container-id-1 div.sk-label label {font-family: monospace;font-weight: bold;display: inline-block;line-height: 1.2em;}#sk-container-id-1 div.sk-label-container {text-align: center;}#sk-container-id-1 div.sk-container {/* jupyter's `normalize.less` sets `[hidden] { display: none; }` but bootstrap.min.css set `[hidden] { display: none !important; }` so we also need the `!important` here to be able to override the default hidden behavior on the sphinx rendered scikit-learn.org. See: https://github.com/scikit-learn/scikit-learn/issues/21755 */display: inline-block !important;position: relative;}#sk-container-id-1 div.sk-text-repr-fallback {display: none;}</style><div id=\"sk-container-id-1\" class=\"sk-top-container\"><div class=\"sk-text-repr-fallback\"><pre>LogisticRegression()</pre><b>In a Jupyter environment, please rerun this cell to show the HTML representation or trust the notebook. <br />On GitHub, the HTML representation is unable to render, please try loading this page with nbviewer.org.</b></div><div class=\"sk-container\" hidden><div class=\"sk-item\"><div class=\"sk-estimator sk-toggleable\"><input class=\"sk-toggleable__control sk-hidden--visually\" id=\"sk-estimator-id-1\" type=\"checkbox\" checked><label for=\"sk-estimator-id-1\" class=\"sk-toggleable__label sk-toggleable__label-arrow\">LogisticRegression</label><div class=\"sk-toggleable__content\"><pre>LogisticRegression()</pre></div></div></div></div></div>"
            ]
          },
          "metadata": {},
          "execution_count": 15
        }
      ],
      "source": [
        "le.fit(X_train,y_train)"
      ]
    },
    {
      "cell_type": "code",
      "execution_count": 16,
      "metadata": {
        "id": "yf1bKs0KFbGL"
      },
      "outputs": [],
      "source": [
        "pred=le.predict(X_test)"
      ]
    },
    {
      "cell_type": "code",
      "execution_count": 17,
      "metadata": {
        "id": "3QOP7oyZFbGL"
      },
      "outputs": [],
      "source": [
        "from sklearn.metrics import classification_report"
      ]
    },
    {
      "cell_type": "code",
      "execution_count": 18,
      "metadata": {
        "colab": {
          "base_uri": "https://localhost:8080/"
        },
        "id": "jsGX5Mh9FbGL",
        "outputId": "881233a1-ce48-4344-ea7d-ec04447e6215"
      },
      "outputs": [
        {
          "output_type": "stream",
          "name": "stdout",
          "text": [
            "              precision    recall  f1-score   support\n",
            "\n",
            "           0       0.54      0.44      0.48        62\n",
            "           1       0.44      0.29      0.35        52\n",
            "           2       0.50      0.73      0.59        66\n",
            "\n",
            "    accuracy                           0.50       180\n",
            "   macro avg       0.49      0.48      0.47       180\n",
            "weighted avg       0.50      0.50      0.48       180\n",
            "\n"
          ]
        }
      ],
      "source": [
        "print(classification_report(y_test,pred))"
      ]
    },
    {
      "cell_type": "code",
      "execution_count": 19,
      "metadata": {
        "colab": {
          "base_uri": "https://localhost:8080/",
          "height": 74
        },
        "id": "qNga70LWFbGL",
        "outputId": "8e9ed843-9050-4f16-9457-90e7222bd41b"
      },
      "outputs": [
        {
          "output_type": "execute_result",
          "data": {
            "text/plain": [
              "RandomForestClassifier()"
            ],
            "text/html": [
              "<style>#sk-container-id-2 {color: black;background-color: white;}#sk-container-id-2 pre{padding: 0;}#sk-container-id-2 div.sk-toggleable {background-color: white;}#sk-container-id-2 label.sk-toggleable__label {cursor: pointer;display: block;width: 100%;margin-bottom: 0;padding: 0.3em;box-sizing: border-box;text-align: center;}#sk-container-id-2 label.sk-toggleable__label-arrow:before {content: \"▸\";float: left;margin-right: 0.25em;color: #696969;}#sk-container-id-2 label.sk-toggleable__label-arrow:hover:before {color: black;}#sk-container-id-2 div.sk-estimator:hover label.sk-toggleable__label-arrow:before {color: black;}#sk-container-id-2 div.sk-toggleable__content {max-height: 0;max-width: 0;overflow: hidden;text-align: left;background-color: #f0f8ff;}#sk-container-id-2 div.sk-toggleable__content pre {margin: 0.2em;color: black;border-radius: 0.25em;background-color: #f0f8ff;}#sk-container-id-2 input.sk-toggleable__control:checked~div.sk-toggleable__content {max-height: 200px;max-width: 100%;overflow: auto;}#sk-container-id-2 input.sk-toggleable__control:checked~label.sk-toggleable__label-arrow:before {content: \"▾\";}#sk-container-id-2 div.sk-estimator input.sk-toggleable__control:checked~label.sk-toggleable__label {background-color: #d4ebff;}#sk-container-id-2 div.sk-label input.sk-toggleable__control:checked~label.sk-toggleable__label {background-color: #d4ebff;}#sk-container-id-2 input.sk-hidden--visually {border: 0;clip: rect(1px 1px 1px 1px);clip: rect(1px, 1px, 1px, 1px);height: 1px;margin: -1px;overflow: hidden;padding: 0;position: absolute;width: 1px;}#sk-container-id-2 div.sk-estimator {font-family: monospace;background-color: #f0f8ff;border: 1px dotted black;border-radius: 0.25em;box-sizing: border-box;margin-bottom: 0.5em;}#sk-container-id-2 div.sk-estimator:hover {background-color: #d4ebff;}#sk-container-id-2 div.sk-parallel-item::after {content: \"\";width: 100%;border-bottom: 1px solid gray;flex-grow: 1;}#sk-container-id-2 div.sk-label:hover label.sk-toggleable__label {background-color: #d4ebff;}#sk-container-id-2 div.sk-serial::before {content: \"\";position: absolute;border-left: 1px solid gray;box-sizing: border-box;top: 0;bottom: 0;left: 50%;z-index: 0;}#sk-container-id-2 div.sk-serial {display: flex;flex-direction: column;align-items: center;background-color: white;padding-right: 0.2em;padding-left: 0.2em;position: relative;}#sk-container-id-2 div.sk-item {position: relative;z-index: 1;}#sk-container-id-2 div.sk-parallel {display: flex;align-items: stretch;justify-content: center;background-color: white;position: relative;}#sk-container-id-2 div.sk-item::before, #sk-container-id-2 div.sk-parallel-item::before {content: \"\";position: absolute;border-left: 1px solid gray;box-sizing: border-box;top: 0;bottom: 0;left: 50%;z-index: -1;}#sk-container-id-2 div.sk-parallel-item {display: flex;flex-direction: column;z-index: 1;position: relative;background-color: white;}#sk-container-id-2 div.sk-parallel-item:first-child::after {align-self: flex-end;width: 50%;}#sk-container-id-2 div.sk-parallel-item:last-child::after {align-self: flex-start;width: 50%;}#sk-container-id-2 div.sk-parallel-item:only-child::after {width: 0;}#sk-container-id-2 div.sk-dashed-wrapped {border: 1px dashed gray;margin: 0 0.4em 0.5em 0.4em;box-sizing: border-box;padding-bottom: 0.4em;background-color: white;}#sk-container-id-2 div.sk-label label {font-family: monospace;font-weight: bold;display: inline-block;line-height: 1.2em;}#sk-container-id-2 div.sk-label-container {text-align: center;}#sk-container-id-2 div.sk-container {/* jupyter's `normalize.less` sets `[hidden] { display: none; }` but bootstrap.min.css set `[hidden] { display: none !important; }` so we also need the `!important` here to be able to override the default hidden behavior on the sphinx rendered scikit-learn.org. See: https://github.com/scikit-learn/scikit-learn/issues/21755 */display: inline-block !important;position: relative;}#sk-container-id-2 div.sk-text-repr-fallback {display: none;}</style><div id=\"sk-container-id-2\" class=\"sk-top-container\"><div class=\"sk-text-repr-fallback\"><pre>RandomForestClassifier()</pre><b>In a Jupyter environment, please rerun this cell to show the HTML representation or trust the notebook. <br />On GitHub, the HTML representation is unable to render, please try loading this page with nbviewer.org.</b></div><div class=\"sk-container\" hidden><div class=\"sk-item\"><div class=\"sk-estimator sk-toggleable\"><input class=\"sk-toggleable__control sk-hidden--visually\" id=\"sk-estimator-id-2\" type=\"checkbox\" checked><label for=\"sk-estimator-id-2\" class=\"sk-toggleable__label sk-toggleable__label-arrow\">RandomForestClassifier</label><div class=\"sk-toggleable__content\"><pre>RandomForestClassifier()</pre></div></div></div></div></div>"
            ]
          },
          "metadata": {},
          "execution_count": 19
        }
      ],
      "source": [
        "from sklearn.ensemble import RandomForestClassifier\n",
        "rm=RandomForestClassifier()\n",
        "\n",
        "rm.fit(X_train,y_train)"
      ]
    },
    {
      "cell_type": "code",
      "execution_count": 20,
      "metadata": {
        "id": "7KdFeOdGFbGL"
      },
      "outputs": [],
      "source": [
        "pred=rm.predict(X_test)"
      ]
    },
    {
      "cell_type": "code",
      "execution_count": 21,
      "metadata": {
        "colab": {
          "base_uri": "https://localhost:8080/"
        },
        "id": "ybc_X6HwFbGM",
        "outputId": "699c28a2-a8d6-4dbc-dd4d-4888200aaf8f"
      },
      "outputs": [
        {
          "output_type": "stream",
          "name": "stdout",
          "text": [
            "              precision    recall  f1-score   support\n",
            "\n",
            "           0       0.62      0.47      0.53        62\n",
            "           1       0.47      0.35      0.40        52\n",
            "           2       0.47      0.68      0.56        66\n",
            "\n",
            "    accuracy                           0.51       180\n",
            "   macro avg       0.52      0.50      0.50       180\n",
            "weighted avg       0.52      0.51      0.50       180\n",
            "\n"
          ]
        }
      ],
      "source": [
        "print(classification_report(y_test,pred))"
      ]
    },
    {
      "cell_type": "code",
      "execution_count": 22,
      "metadata": {
        "id": "GL4DE3h_FbGM"
      },
      "outputs": [],
      "source": [
        "from sklearn.svm import SVC"
      ]
    },
    {
      "cell_type": "code",
      "execution_count": 23,
      "metadata": {
        "id": "Zc_MeLQVFbGM"
      },
      "outputs": [],
      "source": [
        "svm = SVC(kernel=\"rbf\", gamma=0.5, C=1.0)"
      ]
    },
    {
      "cell_type": "code",
      "execution_count": 24,
      "metadata": {
        "colab": {
          "base_uri": "https://localhost:8080/",
          "height": 74
        },
        "id": "Lf62w0i3FbGM",
        "outputId": "a45dc92d-97c4-489b-b0d6-bd627b28a7e4"
      },
      "outputs": [
        {
          "output_type": "execute_result",
          "data": {
            "text/plain": [
              "SVC(gamma=0.5)"
            ],
            "text/html": [
              "<style>#sk-container-id-3 {color: black;background-color: white;}#sk-container-id-3 pre{padding: 0;}#sk-container-id-3 div.sk-toggleable {background-color: white;}#sk-container-id-3 label.sk-toggleable__label {cursor: pointer;display: block;width: 100%;margin-bottom: 0;padding: 0.3em;box-sizing: border-box;text-align: center;}#sk-container-id-3 label.sk-toggleable__label-arrow:before {content: \"▸\";float: left;margin-right: 0.25em;color: #696969;}#sk-container-id-3 label.sk-toggleable__label-arrow:hover:before {color: black;}#sk-container-id-3 div.sk-estimator:hover label.sk-toggleable__label-arrow:before {color: black;}#sk-container-id-3 div.sk-toggleable__content {max-height: 0;max-width: 0;overflow: hidden;text-align: left;background-color: #f0f8ff;}#sk-container-id-3 div.sk-toggleable__content pre {margin: 0.2em;color: black;border-radius: 0.25em;background-color: #f0f8ff;}#sk-container-id-3 input.sk-toggleable__control:checked~div.sk-toggleable__content {max-height: 200px;max-width: 100%;overflow: auto;}#sk-container-id-3 input.sk-toggleable__control:checked~label.sk-toggleable__label-arrow:before {content: \"▾\";}#sk-container-id-3 div.sk-estimator input.sk-toggleable__control:checked~label.sk-toggleable__label {background-color: #d4ebff;}#sk-container-id-3 div.sk-label input.sk-toggleable__control:checked~label.sk-toggleable__label {background-color: #d4ebff;}#sk-container-id-3 input.sk-hidden--visually {border: 0;clip: rect(1px 1px 1px 1px);clip: rect(1px, 1px, 1px, 1px);height: 1px;margin: -1px;overflow: hidden;padding: 0;position: absolute;width: 1px;}#sk-container-id-3 div.sk-estimator {font-family: monospace;background-color: #f0f8ff;border: 1px dotted black;border-radius: 0.25em;box-sizing: border-box;margin-bottom: 0.5em;}#sk-container-id-3 div.sk-estimator:hover {background-color: #d4ebff;}#sk-container-id-3 div.sk-parallel-item::after {content: \"\";width: 100%;border-bottom: 1px solid gray;flex-grow: 1;}#sk-container-id-3 div.sk-label:hover label.sk-toggleable__label {background-color: #d4ebff;}#sk-container-id-3 div.sk-serial::before {content: \"\";position: absolute;border-left: 1px solid gray;box-sizing: border-box;top: 0;bottom: 0;left: 50%;z-index: 0;}#sk-container-id-3 div.sk-serial {display: flex;flex-direction: column;align-items: center;background-color: white;padding-right: 0.2em;padding-left: 0.2em;position: relative;}#sk-container-id-3 div.sk-item {position: relative;z-index: 1;}#sk-container-id-3 div.sk-parallel {display: flex;align-items: stretch;justify-content: center;background-color: white;position: relative;}#sk-container-id-3 div.sk-item::before, #sk-container-id-3 div.sk-parallel-item::before {content: \"\";position: absolute;border-left: 1px solid gray;box-sizing: border-box;top: 0;bottom: 0;left: 50%;z-index: -1;}#sk-container-id-3 div.sk-parallel-item {display: flex;flex-direction: column;z-index: 1;position: relative;background-color: white;}#sk-container-id-3 div.sk-parallel-item:first-child::after {align-self: flex-end;width: 50%;}#sk-container-id-3 div.sk-parallel-item:last-child::after {align-self: flex-start;width: 50%;}#sk-container-id-3 div.sk-parallel-item:only-child::after {width: 0;}#sk-container-id-3 div.sk-dashed-wrapped {border: 1px dashed gray;margin: 0 0.4em 0.5em 0.4em;box-sizing: border-box;padding-bottom: 0.4em;background-color: white;}#sk-container-id-3 div.sk-label label {font-family: monospace;font-weight: bold;display: inline-block;line-height: 1.2em;}#sk-container-id-3 div.sk-label-container {text-align: center;}#sk-container-id-3 div.sk-container {/* jupyter's `normalize.less` sets `[hidden] { display: none; }` but bootstrap.min.css set `[hidden] { display: none !important; }` so we also need the `!important` here to be able to override the default hidden behavior on the sphinx rendered scikit-learn.org. See: https://github.com/scikit-learn/scikit-learn/issues/21755 */display: inline-block !important;position: relative;}#sk-container-id-3 div.sk-text-repr-fallback {display: none;}</style><div id=\"sk-container-id-3\" class=\"sk-top-container\"><div class=\"sk-text-repr-fallback\"><pre>SVC(gamma=0.5)</pre><b>In a Jupyter environment, please rerun this cell to show the HTML representation or trust the notebook. <br />On GitHub, the HTML representation is unable to render, please try loading this page with nbviewer.org.</b></div><div class=\"sk-container\" hidden><div class=\"sk-item\"><div class=\"sk-estimator sk-toggleable\"><input class=\"sk-toggleable__control sk-hidden--visually\" id=\"sk-estimator-id-3\" type=\"checkbox\" checked><label for=\"sk-estimator-id-3\" class=\"sk-toggleable__label sk-toggleable__label-arrow\">SVC</label><div class=\"sk-toggleable__content\"><pre>SVC(gamma=0.5)</pre></div></div></div></div></div>"
            ]
          },
          "metadata": {},
          "execution_count": 24
        }
      ],
      "source": [
        "svm.fit(X_train,y_train)"
      ]
    },
    {
      "cell_type": "code",
      "execution_count": 25,
      "metadata": {
        "id": "0NIBhKoMFbGM"
      },
      "outputs": [],
      "source": [
        "pred=svm.predict(X_test)"
      ]
    },
    {
      "cell_type": "code",
      "execution_count": 26,
      "metadata": {
        "colab": {
          "base_uri": "https://localhost:8080/"
        },
        "id": "HUjgP5DvFbGM",
        "outputId": "980ce169-06b7-4ca6-dddc-b4fbbe2f9c07"
      },
      "outputs": [
        {
          "output_type": "stream",
          "name": "stdout",
          "text": [
            "              precision    recall  f1-score   support\n",
            "\n",
            "           0       0.57      0.48      0.52        62\n",
            "           1       0.59      0.19      0.29        52\n",
            "           2       0.47      0.79      0.59        66\n",
            "\n",
            "    accuracy                           0.51       180\n",
            "   macro avg       0.54      0.49      0.47       180\n",
            "weighted avg       0.54      0.51      0.48       180\n",
            "\n"
          ]
        }
      ],
      "source": [
        "print(classification_report(y_test,pred))"
      ]
    },
    {
      "cell_type": "markdown",
      "metadata": {
        "id": "M4fGyKCOFbGM"
      },
      "source": [
        "Above we have used tfidf as embedding layer but now we cant as such use that because we need to do padding to data  to give ann  input dimension"
      ]
    },
    {
      "cell_type": "markdown",
      "metadata": {
        "id": "Hdd2hv7kFbGN"
      },
      "source": [
        "Deep learning"
      ]
    },
    {
      "cell_type": "code",
      "execution_count": 27,
      "metadata": {
        "colab": {
          "base_uri": "https://localhost:8080/"
        },
        "id": "a1zdGZsEFbGO",
        "outputId": "245bf7a1-400a-4996-bc73-d5702d0b1993"
      },
      "outputs": [
        {
          "output_type": "stream",
          "name": "stdout",
          "text": [
            "620\n"
          ]
        }
      ],
      "source": [
        "print(len(data[600]))"
      ]
    },
    {
      "cell_type": "code",
      "execution_count": 28,
      "metadata": {
        "id": "srT2eAq0FbGO"
      },
      "outputs": [],
      "source": [
        "\n",
        "maxlen = 0\n",
        "for sentence_list in data:\n",
        "    sentence_length = len(sentence_list)\n",
        "    if sentence_length > maxlen:\n",
        "        maxlen = sentence_length"
      ]
    },
    {
      "cell_type": "code",
      "execution_count": 29,
      "metadata": {
        "colab": {
          "base_uri": "https://localhost:8080/"
        },
        "id": "ACxd-CGFFbGO",
        "outputId": "3afb40b8-2d73-4122-985d-0bf1ecaa1b4b"
      },
      "outputs": [
        {
          "output_type": "execute_result",
          "data": {
            "text/plain": [
              "823"
            ]
          },
          "metadata": {},
          "execution_count": 29
        }
      ],
      "source": [
        "maxlen"
      ]
    },
    {
      "cell_type": "markdown",
      "metadata": {
        "id": "xC15xNorFbGO"
      },
      "source": [
        "Apply bag of words  now\n",
        ""
      ]
    },
    {
      "cell_type": "code",
      "execution_count": 30,
      "metadata": {
        "id": "h6xJBIEOFbGO"
      },
      "outputs": [],
      "source": [
        "from sklearn.feature_extraction.text import CountVectorizer\n",
        "\n",
        "vectorizer=CountVectorizer()\n",
        "\n",
        "\n"
      ]
    },
    {
      "cell_type": "code",
      "execution_count": 31,
      "metadata": {
        "id": "fowzqRmiFbGO"
      },
      "outputs": [],
      "source": [
        "flattened_data = [' '.join(sentence) for sentence in data]\n"
      ]
    },
    {
      "cell_type": "code",
      "execution_count": 32,
      "metadata": {
        "id": "kto4Tl4lFbGO"
      },
      "outputs": [],
      "source": [
        "x=vectorizer.fit_transform(flattened_data)"
      ]
    },
    {
      "cell_type": "code",
      "execution_count": 33,
      "metadata": {
        "id": "IvVSjqkzFbGO"
      },
      "outputs": [],
      "source": [
        "from tensorflow.keras.preprocessing.sequence import pad_sequences"
      ]
    },
    {
      "cell_type": "code",
      "execution_count": 34,
      "metadata": {
        "id": "DZPJZR4kFbGP"
      },
      "outputs": [],
      "source": [
        "x=x.toarray()"
      ]
    },
    {
      "cell_type": "code",
      "execution_count": 35,
      "metadata": {
        "id": "VkpQBRSWFbGP"
      },
      "outputs": [],
      "source": [
        "maxlen=max(len(datas) for datas in data )"
      ]
    },
    {
      "cell_type": "code",
      "execution_count": 36,
      "metadata": {
        "colab": {
          "base_uri": "https://localhost:8080/"
        },
        "id": "o3S3XN-WFbGP",
        "outputId": "bc400b82-6ff0-46c6-cc16-4eb4f4ea2dd4"
      },
      "outputs": [
        {
          "output_type": "execute_result",
          "data": {
            "text/plain": [
              "823"
            ]
          },
          "metadata": {},
          "execution_count": 36
        }
      ],
      "source": [
        "maxlen"
      ]
    },
    {
      "cell_type": "code",
      "execution_count": 37,
      "metadata": {
        "id": "zEGiiajPFbGP"
      },
      "outputs": [],
      "source": [
        "padded_sequences = pad_sequences(x, maxlen=maxlen, padding='post')"
      ]
    },
    {
      "cell_type": "code",
      "execution_count": 38,
      "metadata": {
        "id": "YY0Dt2E8FbGP"
      },
      "outputs": [],
      "source": [
        "from sklearn.model_selection import train_test_split\n",
        "X_train, X_test,y_train, y_test = train_test_split(x,y ,\n",
        "                                   random_state=42,\n",
        "                                   test_size=0.25,\n",
        "                                   shuffle=True)"
      ]
    },
    {
      "cell_type": "code",
      "execution_count": 39,
      "metadata": {
        "id": "w98sOP7GFbGQ"
      },
      "outputs": [],
      "source": [
        "import tensorflow as tf\n",
        "\n",
        "from tensorflow import keras\n",
        "from sklearn.model_selection import train_test_split\n",
        "from sklearn.preprocessing import LabelEncoder\n",
        "from tensorflow.keras.preprocessing.text import Tokenizer\n",
        "from tensorflow.keras.preprocessing.sequence import pad_sequences"
      ]
    },
    {
      "cell_type": "code",
      "execution_count": 40,
      "metadata": {
        "id": "aE-hYADvFbGQ"
      },
      "outputs": [],
      "source": [
        "import keras\n",
        "from keras.layers import Embedding, LSTM, GlobalMaxPooling1D, Dense, Dropout\n",
        "\n",
        "model = keras.Sequential([\n",
        "    Embedding(input_dim=x.shape[1], output_dim=128),  # Adjust input_dim\n",
        "    LSTM(128, return_sequences=True),\n",
        "    LSTM(128, return_sequences=True),\n",
        "    GlobalMaxPooling1D(),\n",
        "    Dense(128, activation='relu'),\n",
        "    Dropout(0.5),\n",
        "    Dense(64, activation='relu'),\n",
        "    Dropout(0.3),\n",
        "    Dense(3, activation='softmax')\n",
        "])\n",
        "\n",
        "# Compile the model and specify the loss and optimizer\n",
        "model.compile(optimizer='adam', loss='sparse_categorical_crossentropy', metrics=['accuracy'])\n",
        "\n",
        "\n"
      ]
    },
    {
      "cell_type": "code",
      "execution_count": 41,
      "metadata": {
        "id": "qev3sGzmFbGQ"
      },
      "outputs": [],
      "source": [
        "model.compile(loss='sparse_categorical_crossentropy', optimizer='adam', metrics=['accuracy'])\n"
      ]
    },
    {
      "cell_type": "code",
      "execution_count": 41,
      "metadata": {
        "id": "JAFLGpuNFbGQ"
      },
      "outputs": [],
      "source": []
    },
    {
      "cell_type": "code",
      "execution_count": null,
      "metadata": {
        "id": "kLdviGGpFbGQ"
      },
      "outputs": [],
      "source": [
        "batch_size = 64\n",
        "epochs = 100\n",
        "\n",
        "\n",
        "model.fit(X_train, y_train, batch_size=batch_size, epochs=epochs)\n"
      ]
    },
    {
      "cell_type": "code",
      "execution_count": 48,
      "metadata": {
        "id": "Ni6sbezTFbGQ"
      },
      "outputs": [],
      "source": [
        "model.save('sentiment.h5')"
      ]
    },
    {
      "cell_type": "code",
      "source": [
        "from google.colab import drive\n",
        "drive.mount('/content/drive')\n"
      ],
      "metadata": {
        "colab": {
          "base_uri": "https://localhost:8080/"
        },
        "id": "klRByx75Hyp_",
        "outputId": "edd63fd8-9b58-4793-ef08-5d06f2376251"
      },
      "execution_count": 49,
      "outputs": [
        {
          "output_type": "stream",
          "name": "stdout",
          "text": [
            "Mounted at /content/drive\n"
          ]
        }
      ]
    },
    {
      "cell_type": "code",
      "source": [
        "model.summary()"
      ],
      "metadata": {
        "colab": {
          "base_uri": "https://localhost:8080/"
        },
        "id": "rDjhvv-0H8BF",
        "outputId": "dc183150-0d44-4a26-8ab3-c3fda0cc7e37"
      },
      "execution_count": 52,
      "outputs": [
        {
          "output_type": "stream",
          "name": "stdout",
          "text": [
            "Model: \"sequential\"\n",
            "_________________________________________________________________\n",
            " Layer (type)                Output Shape              Param #   \n",
            "=================================================================\n",
            " embedding (Embedding)       (None, None, 128)         346624    \n",
            "                                                                 \n",
            " lstm (LSTM)                 (None, None, 128)         131584    \n",
            "                                                                 \n",
            " lstm_1 (LSTM)               (None, None, 128)         131584    \n",
            "                                                                 \n",
            " global_max_pooling1d (Globa  (None, 128)              0         \n",
            " lMaxPooling1D)                                                  \n",
            "                                                                 \n",
            " dense (Dense)               (None, 128)               16512     \n",
            "                                                                 \n",
            " dropout (Dropout)           (None, 128)               0         \n",
            "                                                                 \n",
            " dense_1 (Dense)             (None, 64)                8256      \n",
            "                                                                 \n",
            " dropout_1 (Dropout)         (None, 64)                0         \n",
            "                                                                 \n",
            " dense_2 (Dense)             (None, 3)                 195       \n",
            "                                                                 \n",
            "=================================================================\n",
            "Total params: 634,755\n",
            "Trainable params: 634,755\n",
            "Non-trainable params: 0\n",
            "_________________________________________________________________\n"
          ]
        }
      ]
    },
    {
      "cell_type": "code",
      "source": [
        "!mkdir -p \"/content/drive/My Drive/models\"\n"
      ],
      "metadata": {
        "id": "id8gFqbxIEFs"
      },
      "execution_count": 53,
      "outputs": []
    },
    {
      "cell_type": "code",
      "source": [
        "model.save(\"/content/drive/My Drive/models/my_ann_model.h5\")\n"
      ],
      "metadata": {
        "id": "XZI8M1UdIP0q"
      },
      "execution_count": 54,
      "outputs": []
    },
    {
      "cell_type": "code",
      "source": [
        "dataset['text'][0]"
      ],
      "metadata": {
        "colab": {
          "base_uri": "https://localhost:8080/",
          "height": 143
        },
        "id": "VeRUR-m3IqRF",
        "outputId": "f7599090-1e31-40ea-eaec-864b04fb14fc"
      },
      "execution_count": 60,
      "outputs": [
        {
          "output_type": "execute_result",
          "data": {
            "text/plain": [
              "'चंद्रमोहन शर्मा को-प्रड्यूसर और लीड ऐक्टर अक्षय कुमार की मानें तो उनकी नई फिल्म एयरलिफ्ट की कहानी और किरदार बिल्कुल सच्चे हैं। पहले खाड़ी युद्ध को कवर करने वाले एक सीनियर रिपोर्टर और उस वक्त एयर इंडिया में उच्च पद पर रहे एक अफसर इस कहानी को सच से परे मानते हैं। हालांकि, स्क्रीन पर आप जो कुछ भी देखेंगे वह सब सच के बेहद करीब है। बॉलिवुड की खबरें अपने फेसबुक पर पाना हो तो लाइक करें  v फिल्म की कहानी चार अहम किरदारों के इर्द-गिर्द घूमती है। इन चारों को मिलाकर एक लीड किरदार स्क्रीन पर उतारा गया है, जिसे अक्षय कुमार ने निभाया है। यह फिल्म पहले खाड़ी युद्ध पर आधारित है। इस जंग के दौरान कुवैत में फंसे करीब एक लाख सत्तर हजार भारतीय नागरिकों को देश वापस लाए जाने की घटना को डायरेक्टर ने अपने अंदाज से पेश किया है। किरदारों को पर्दे पर उतारने में कुछ फिल्मी आजादी की जरूरत होती है, यही आजादी फिल्म के डायरेक्टर राजा मेनन ने भी ली है। देखिए, फिल्म का ट्रेलर  इस घटना को और ज्यादा असरदार ढंग से पेश करने के मकसद से राजा ने फिल्म के कुछ सीन्स को दुबई से करीब चार घंटे की दूरी पर स्थित रसेल खेमा में जाकर शूट किया। गुजरात के भुज और राजस्थान की आउटडोर लोकेशन पर इस फिल्म की अधिकांश शूटिंग की गई है।  कहानी  रंजीत कात्याल (अक्षय कुमार), पत्नी अमृता कात्याल (निमरत कौर) और प्यारी-सी बेटी के साथ कुवैत में रहता है। वह शहर का नामी बिज़नसमैन है। खाड़ी युद्ध छिड़ने के बाद बुरी तरह से बर्बाद हुए कुवैत के एक शहर में रह रहे दूसरे भारतीय नागरिकों के साथ रंजीत का परिवार भी फंस जाता है। सरकारी अधिकारी हालात से निपटने के विकल्पों पर विचार कर रहे हैं और ऐसे में कुवैत का रईस बिज़नसमैन रंजीत अपने प्रभाव और रसूख से अपनी फैमिली और फंसे दूसरे भारतीय नागरिकों को वहां से निकालने का मिशन स्टार्ट करता है। कुवैत में हालात खराब हो रहे थे। भारतीय सेना डायरेक्ट कुछ करने में कतरा रही थी। उस वक्त रंजीत ने अपने दम पर दुनिया के सबसे बड़े ऑपरेशन को शुरू करने का फैसला किया। ऐक्टिंग  इस फिल्म में अक्षय कुमार ने एक बार फिर अपने किरदार को पूरी तरह से जीवंत कर दिखाया है। एयरलिफ्ट में अक्षय कुमार ने अब तक के अपने फिल्मी करियर की बेहतरीन ऐक्टिंग की है। अक्षय जब स्क्रीन पर देश के राष्ट्रीय ध्वज के साथ नजर आते हैं, तो उनके चेहरे का एक्सप्रेशन देखकर हॉल में बैठे दर्शक इस सीन से बंध जाते हैं।  अक्षय की पत्नी के किरदार में निमरत कौर ने अच्छा काम किया है। बाकी के कलाकारों में पूरब कोहली, इनामुल हक और कुमुद मिश्रा ने बेहतरीन ऐक्टिंग की है। डायरेक्शन  राजा मेनन ने स्क्रिप्ट के साथ पूरा न्याय किया है। डायरेक्टर की तारीफ करनी होगी कि उन्होंने बॉक्स ऑफिस का मोह त्याग कर कहानी और किरदारों को पूरी तरह से माहौल में समेटा है। वहीं फिल्म के लगभर हर ऐक्टर से उन्होंने बेहतरीन ऐक्टिंग कराई है। वॉर सीन्स को भी उन्होंने पर्दे पर पूरी तरह से जीवंत कर दिखाया है। उनका काम तारीफ के काबिल है। संगीत  ऐसी कहानी में गानों की जरूरत नहीं होती, लेकिन यहां राजा ने गानों का फिल्मांकन ऐसे ढंग से पेश किया है, जो कहानी और माहौल के अनुकूल है। क्यों देखें  अक्षय कुमार को उनके फिल्मी करियर के सबसे बेहतरीन किरदार में देखने के लिए इस फिल्म को देखें। अगर आप अच्छी और मेसेज देने वाली फिल्मों के शौकीन हैं, तो इस फिल्म को फैमिली के साथ देख सकते हैं। '"
            ],
            "application/vnd.google.colaboratory.intrinsic+json": {
              "type": "string"
            }
          },
          "metadata": {},
          "execution_count": 60
        }
      ]
    },
    {
      "cell_type": "code",
      "source": [
        "dd=[]\n",
        "dd.append(dataset['text'][0])"
      ],
      "metadata": {
        "id": "6_qkKcyaI_40"
      },
      "execution_count": 63,
      "outputs": []
    },
    {
      "cell_type": "code",
      "source": [
        "dd=vectorizer.fit_transform(dd)"
      ],
      "metadata": {
        "id": "ZfB-9j9BI_7c"
      },
      "execution_count": 65,
      "outputs": []
    },
    {
      "cell_type": "code",
      "source": [
        "dd=dd.toarray()"
      ],
      "metadata": {
        "id": "mrusCqF3JLfi"
      },
      "execution_count": 80,
      "outputs": []
    },
    {
      "cell_type": "code",
      "source": [
        "padded_sequences = pad_sequences(dd, maxlen=len(dd[0]), padding='post')"
      ],
      "metadata": {
        "id": "RMqv_GUIJLiE"
      },
      "execution_count": 81,
      "outputs": []
    },
    {
      "cell_type": "code",
      "source": [],
      "metadata": {
        "id": "bvz_4IbmJLks"
      },
      "execution_count": null,
      "outputs": []
    },
    {
      "cell_type": "code",
      "source": [
        "predictions = model.predict(padded_sequences)\n",
        "\n",
        "# If it's a binary classification problem (sigmoid activation in the last layer)\n",
        "binary_predictions = (predictions > 0.5).astype(int)\n",
        "\n",
        "# If it's a multi-class classification problem (softmax activation in the last layer)\n",
        "class_predictions = predictions.argmax(axis=-1)"
      ],
      "metadata": {
        "colab": {
          "base_uri": "https://localhost:8080/"
        },
        "id": "EkyMzoLvISPR",
        "outputId": "fb2ba036-ded4-4a67-af70-281dc07cdde6"
      },
      "execution_count": 82,
      "outputs": [
        {
          "output_type": "stream",
          "name": "stdout",
          "text": [
            "1/1 [==============================] - 1s 1s/step\n"
          ]
        }
      ]
    },
    {
      "cell_type": "code",
      "source": [
        "class_predictions"
      ],
      "metadata": {
        "colab": {
          "base_uri": "https://localhost:8080/"
        },
        "id": "TDDr64UuImXr",
        "outputId": "4652ce39-1c65-4755-a562-1fa315ab314f"
      },
      "execution_count": 83,
      "outputs": [
        {
          "output_type": "execute_result",
          "data": {
            "text/plain": [
              "array([2])"
            ]
          },
          "metadata": {},
          "execution_count": 83
        }
      ]
    },
    {
      "cell_type": "code",
      "source": [],
      "metadata": {
        "id": "1mJYhaY6IphT"
      },
      "execution_count": null,
      "outputs": []
    }
  ],
  "metadata": {
    "kernelspec": {
      "display_name": "Python 3",
      "name": "python3"
    },
    "language_info": {
      "codemirror_mode": {
        "name": "ipython",
        "version": 3
      },
      "file_extension": ".py",
      "mimetype": "text/x-python",
      "name": "python",
      "nbconvert_exporter": "python",
      "pygments_lexer": "ipython3",
      "version": "3.11.4"
    },
    "orig_nbformat": 4,
    "colab": {
      "provenance": [],
      "gpuType": "T4"
    },
    "accelerator": "GPU"
  },
  "nbformat": 4,
  "nbformat_minor": 0
}